{
 "cells": [
  {
   "cell_type": "code",
   "execution_count": 23,
   "metadata": {},
   "outputs": [],
   "source": [
    "from langchain.chat_models import ChatOpenAI\n",
    "from langchain.prompts import ChatPromptTemplate\n",
    "from langchain.schema.output_parser import StrOutputParser\n",
    "from langchain_core.runnables import RunnablePassthrough\n",
    "\n",
    "model = ChatOpenAI(model_name='gpt-3.5-turbo')\n",
    "\n",
    "poem_prompt = ChatPromptTemplate.from_template(\n",
    "    \"You are a poet. Write a poem about the '{language}' programming language.\"\n",
    ")\n",
    "poem_chain = poem_prompt | model | StrOutputParser()"
   ]
  },
  {
   "cell_type": "code",
   "execution_count": 24,
   "metadata": {},
   "outputs": [],
   "source": [
    "explanation_prompt = ChatPromptTemplate.from_template(\n",
    "    \"Explain the following {poem}\"\n",
    ")\n",
    "explanation_chain = explanation_prompt | model | StrOutputParser()"
   ]
  },
  {
   "cell_type": "code",
   "execution_count": 25,
   "metadata": {},
   "outputs": [
    {
     "data": {
      "text/plain": [
       "{'language': 'python',\n",
       " 'poem': \"In the land of code, where languages reside,\\nThere dwells a serpent, sleek and wise.\\nPython is its name, a language renowned,\\nFor its simplicity and power unbound.\\n\\nWith syntax clean and easy to read,\\nIt slithers through tasks with lightning speed.\\nFrom web development to data science's art,\\nPython weaves its magic in every part.\\n\\nIts libraries vast, its capabilities vast,\\nPython shines bright, unsurpassed.\\nFrom machine learning to automation's hand,\\nPython reigns supreme, a language grand.\\n\\nSo let us embrace this serpent of code,\\nAnd unleash its power in every abode.\\nFor with Python by our side, we can soar,\\nAnd conquer the digital world like never before.\",\n",
       " 'explanation': 'This poem describes Python, a popular programming language known for its simplicity, readability, and versatility. The poem personifies Python as a sleek and wise serpent that navigates through tasks quickly and efficiently.\\n\\nPython is praised for its clean syntax, making it easy for programmers to write and understand code. It is widely used in various fields such as web development, data science, machine learning, and automation due to its vast libraries and capabilities.\\n\\nThe poem encourages embracing Python as a powerful tool in the digital world, highlighting its potential to help users conquer challenges and excel in their coding endeavors. Ultimately, Python is portrayed as a grand and powerful language that can lead programmers to success in their coding journeys.'}"
      ]
     },
     "execution_count": 25,
     "metadata": {},
     "output_type": "execute_result"
    }
   ],
   "source": [
    "final_chain = (\n",
    "    RunnablePassthrough.assign(poem=poem_chain)\n",
    "    | RunnablePassthrough.assign(explanation=explanation_chain)\n",
    ")\n",
    "final_chain.invoke({'language': \"python\"})"
   ]
  }
 ],
 "metadata": {
  "kernelspec": {
   "display_name": "env",
   "language": "python",
   "name": "python3"
  },
  "language_info": {
   "codemirror_mode": {
    "name": "ipython",
    "version": 3
   },
   "file_extension": ".py",
   "mimetype": "text/x-python",
   "name": "python",
   "nbconvert_exporter": "python",
   "pygments_lexer": "ipython3",
   "version": "3.13.1"
  }
 },
 "nbformat": 4,
 "nbformat_minor": 2
}
