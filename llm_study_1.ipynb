{
 "cells": [
  {
   "cell_type": "code",
   "execution_count": 13,
   "metadata": {},
   "outputs": [
    {
     "data": {
      "text/plain": [
       "AIMessage(content='\\n        I know this:\\n        Director: Colin Trevorrow\\n        Cast: Chris Pratt (Owen Grady), Bryce Dallas Howard (Claire Dearing), Vincent D\\'Onofrio (Vic Hoskins), Ty Simpkins (Gray Mitchell), Nick Robinson (Zach Mitchell)\\n        Budget: $150 million\\n        Box office revenue: $1.672 billion\\n        Genre: Action, Adventure, Science Fiction\\n        Brief Synopsis: Set 22 years after the events of the original \"Jurassic Park,\" \"Jurassic World\" follows the reopening of the dinosaur theme park on Isla Nublar, where a genetically modified hybrid dinosaur escapes and wreaks havoc, leading to a fight for survival.', additional_kwargs={}, response_metadata={'token_usage': {'completion_tokens': 147, 'prompt_tokens': 437, 'total_tokens': 584, 'completion_tokens_details': {'accepted_prediction_tokens': 0, 'audio_tokens': 0, 'reasoning_tokens': 0, 'rejected_prediction_tokens': 0}, 'prompt_tokens_details': {'audio_tokens': 0, 'cached_tokens': 0}}, 'model_name': 'gpt-3.5-turbo', 'system_fingerprint': None, 'finish_reason': 'stop', 'logprobs': None}, id='run-03e74436-51fd-4c4f-a423-b4a253fbfd84-0')"
      ]
     },
     "execution_count": 13,
     "metadata": {},
     "output_type": "execute_result"
    }
   ],
   "source": [
    "from langchain.chat_models import ChatOpenAI\n",
    "from langchain.callbacks import StreamingStdOutCallbackHandler\n",
    "from langchain.prompts import ChatPromptTemplate\n",
    "from langchain.prompts.few_shot import FewShotChatMessagePromptTemplate\n",
    "from langchain.globals import set_llm_cache, set_debug\n",
    "from langchain.cache import InMemoryCache, SQLiteCache\n",
    "from langchain.callbacks import get_openai_callback\n",
    "\n",
    "set_llm_cache(SQLiteCache(\"cache.db\"))\n",
    "\n",
    "chat = ChatOpenAI(\n",
    "    temperature=0.1,\n",
    "    # streaming=True,\n",
    "    # callbacks=[\n",
    "    #     StreamingStdOutCallbackHandler(),\n",
    "    # ],\n",
    ")\n",
    "\n",
    "examples = [\n",
    "    {\n",
    "        \"movie\": \"Shrek\",\n",
    "        \"answer\": \"\"\"\n",
    "        Here is what I know:\n",
    "        Director: Andrew Adamson, Vicky Jenson\n",
    "        Cast: Mike Myers (Shrek), Eddie Murphy (Donkey), Cameron Diaz (Princess Fiona), John Lithgow (Lord Farquaad)\n",
    "        Budget: $60 million\n",
    "        Box office revenue: $487.9 million\n",
    "        Genre: Animation, Comedy, Adventure, Fantasy\n",
    "        Brief Synopsis: A grumpy but kind-hearted ogre named Shrek embarks on a journey to rescue Princess Fiona, encountering a talkative donkey and uncovering unexpected secrets along the way.\n",
    "        \"\"\",\n",
    "    },\n",
    "    {\n",
    "        \"movie\": \"Top Gun\",\n",
    "        \"answer\": \"\"\"\n",
    "        I know this:\n",
    "        Director: Tony Scott\n",
    "        Cast: Tom Cruise (Maverick), Kelly McGillis (Charlie), Val Kilmer (Iceman), Anthony Edwards (Goose)\n",
    "        Budget: $15 million\n",
    "        Box office revenue: $357.3 million\n",
    "        Genre: Action, Drama\n",
    "        Brief Synopsis: A talented but reckless Navy pilot, Pete \"Maverick\" Mitchell, trains at the elite Top Gun Naval Fighter Weapons School, facing rivalries, romance, and personal loss while striving to prove himself.\n",
    "        \"\"\",\n",
    "    },\n",
    "    {\n",
    "        \"movie\": \"Spider-Man\",\n",
    "        \"answer\": \"\"\"\n",
    "        I know this:\n",
    "        Director: Sam Raimi\n",
    "        Cast: Tobey Maguire (Peter Parker/Spider-Man), Kirsten Dunst (Mary Jane Watson), Willem Dafoe (Norman Osborn/Green Goblin), James Franco (Harry Osborn)\n",
    "        Budget: $139 million\n",
    "        Box office revenue: $825 million\n",
    "        Genre: Action, Superhero, Adventure\n",
    "        Brief Synopsis: After being bitten by a genetically modified spider, high school student Peter Parker gains superpowers and learns the responsibility of being Spider-Man while facing his first major villain, the Green Goblin.\n",
    "        \"\"\",\n",
    "    },\n",
    "]\n",
    "\n",
    "example_prompt = ChatPromptTemplate.from_messages(\n",
    "    [\n",
    "        (\"human\", \"What do you know about {movie}?\"),\n",
    "        (\"ai\", \"{answer}\"),\n",
    "    ]\n",
    ")\n",
    "\n",
    "example_prompt = FewShotChatMessagePromptTemplate(\n",
    "    example_prompt=example_prompt,\n",
    "    examples=examples,\n",
    ")\n",
    "\n",
    "final_prompt = ChatPromptTemplate.from_messages(\n",
    "    [\n",
    "        (\"system\", \"You are a movie expert, you give short answers.\"),\n",
    "        example_prompt,\n",
    "        (\"human\", \"What do you know about {movie}?\"),\n",
    "    ]\n",
    ")\n",
    "\n",
    "chain = final_prompt | chat\n",
    "\n",
    "chain.invoke({\"movie\": \"Jurassic world\"})\n",
    "\n",
    "\n",
    "# with get_openai_callback() as usage:\n",
    "#     a = chat.predict(\"What is the recipe for soju\")\n",
    "#     b = chat.predict(\"What is the recipe for bread\")\n",
    "#     print(a, \"\\n\")\n",
    "#     print(b, \"\\n\")\n",
    "#     print(usage)"
   ]
  },
  {
   "cell_type": "code",
   "execution_count": 4,
   "metadata": {},
   "outputs": [
    {
     "data": {
      "text/plain": [
       "{'history': [HumanMessage(content='1', additional_kwargs={}, response_metadata={}),\n",
       "  AIMessage(content='1', additional_kwargs={}, response_metadata={})]}"
      ]
     },
     "execution_count": 4,
     "metadata": {},
     "output_type": "execute_result"
    }
   ],
   "source": [
    "from langchain.memory import ConversationBufferMemory, ConversationBufferWindowMemory\n",
    "\n",
    "# memory = ConversationBufferMemory(return_messages=True)\n",
    "# memory.save_context({\"input\": \"Hi\"}, {\"output\": \"Hello\"})\n",
    "# memory.load_memory_variables({})\n",
    "\n",
    "memory = ConversationBufferWindowMemory(\n",
    "    return_messages=True,\n",
    "    k=4,\n",
    ")\n",
    "\n",
    "def add_message(input, output):\n",
    "    memory.save_context({\"input\": input}, {\"output\": output})\n",
    "\n",
    "add_message(\"1\", \"1\")\n",
    "add_message(\"2\", \"2\")\n",
    "add_message(\"3\", \"3\")\n",
    "add_message(\"4\", \"4\")\n",
    "add_message(\"5\", \"5\")\n",
    "memory.load_memory_variables({})"
   ]
  }
 ],
 "metadata": {
  "kernelspec": {
   "display_name": "env",
   "language": "python",
   "name": "python3"
  },
  "language_info": {
   "codemirror_mode": {
    "name": "ipython",
    "version": 3
   },
   "file_extension": ".py",
   "mimetype": "text/x-python",
   "name": "python",
   "nbconvert_exporter": "python",
   "pygments_lexer": "ipython3",
   "version": "3.13.1"
  }
 },
 "nbformat": 4,
 "nbformat_minor": 2
}
