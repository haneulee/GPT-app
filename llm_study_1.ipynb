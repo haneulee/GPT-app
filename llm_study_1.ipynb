{
 "cells": [
  {
   "cell_type": "code",
   "execution_count": null,
   "metadata": {},
   "outputs": [],
   "source": [
    "from langchain.chat_models import ChatOpenAI\n",
    "from langchain.callbacks import StreamingStdOutCallbackHandler\n",
    "from langchain.prompts import ChatPromptTemplate\n",
    "from langchain.prompts.few_shot import FewShotChatMessagePromptTemplate\n",
    "from langchain.globals import set_llm_cache, set_debug\n",
    "from langchain.cache import InMemoryCache, SQLiteCache\n",
    "from langchain.callbacks import get_openai_callback\n",
    "\n",
    "set_llm_cache(SQLiteCache(\"cache.db\"))\n",
    "\n",
    "chat = ChatOpenAI(\n",
    "    temperature=0.1,\n",
    "    # streaming=True,\n",
    "    # callbacks=[\n",
    "    #     StreamingStdOutCallbackHandler(),\n",
    "    # ],\n",
    ")\n",
    "\n",
    "examples = [\n",
    "    {\n",
    "        \"movie\": \"Shrek\",\n",
    "        \"answer\": \"\"\"\n",
    "        Here is what I know:\n",
    "        Director: Andrew Adamson, Vicky Jenson\n",
    "        Cast: Mike Myers (Shrek), Eddie Murphy (Donkey), Cameron Diaz (Princess Fiona), John Lithgow (Lord Farquaad)\n",
    "        Budget: $60 million\n",
    "        Box office revenue: $487.9 million\n",
    "        Genre: Animation, Comedy, Adventure, Fantasy\n",
    "        Brief Synopsis: A grumpy but kind-hearted ogre named Shrek embarks on a journey to rescue Princess Fiona, encountering a talkative donkey and uncovering unexpected secrets along the way.\n",
    "        \"\"\",\n",
    "    },\n",
    "    {\n",
    "        \"movie\": \"Top Gun\",\n",
    "        \"answer\": \"\"\"\n",
    "        I know this:\n",
    "        Director: Tony Scott\n",
    "        Cast: Tom Cruise (Maverick), Kelly McGillis (Charlie), Val Kilmer (Iceman), Anthony Edwards (Goose)\n",
    "        Budget: $15 million\n",
    "        Box office revenue: $357.3 million\n",
    "        Genre: Action, Drama\n",
    "        Brief Synopsis: A talented but reckless Navy pilot, Pete \"Maverick\" Mitchell, trains at the elite Top Gun Naval Fighter Weapons School, facing rivalries, romance, and personal loss while striving to prove himself.\n",
    "        \"\"\",\n",
    "    },\n",
    "    {\n",
    "        \"movie\": \"Spider-Man\",\n",
    "        \"answer\": \"\"\"\n",
    "        I know this:\n",
    "        Director: Sam Raimi\n",
    "        Cast: Tobey Maguire (Peter Parker/Spider-Man), Kirsten Dunst (Mary Jane Watson), Willem Dafoe (Norman Osborn/Green Goblin), James Franco (Harry Osborn)\n",
    "        Budget: $139 million\n",
    "        Box office revenue: $825 million\n",
    "        Genre: Action, Superhero, Adventure\n",
    "        Brief Synopsis: After being bitten by a genetically modified spider, high school student Peter Parker gains superpowers and learns the responsibility of being Spider-Man while facing his first major villain, the Green Goblin.\n",
    "        \"\"\",\n",
    "    },\n",
    "]\n",
    "\n",
    "example_prompt = ChatPromptTemplate.from_messages(\n",
    "    [\n",
    "        (\"human\", \"What do you know about {movie}?\"),\n",
    "        (\"ai\", \"{answer}\"),\n",
    "    ]\n",
    ")\n",
    "\n",
    "example_prompt = FewShotChatMessagePromptTemplate(\n",
    "    example_prompt=example_prompt,\n",
    "    examples=examples,\n",
    ")\n",
    "\n",
    "final_prompt = ChatPromptTemplate.from_messages(\n",
    "    [\n",
    "        (\"system\", \"You are a movie expert, you give short answers.\"),\n",
    "        example_prompt,\n",
    "        (\"human\", \"What do you know about {movie}?\"),\n",
    "    ]\n",
    ")\n",
    "\n",
    "chain = final_prompt | chat\n",
    "\n",
    "chain.invoke({\"movie\": \"Jurassic world\"})\n",
    "\n",
    "\n",
    "# with get_openai_callback() as usage:\n",
    "#     a = chat.predict(\"What is the recipe for soju\")\n",
    "#     b = chat.predict(\"What is the recipe for bread\")\n",
    "#     print(a, \"\\n\")\n",
    "#     print(b, \"\\n\")\n",
    "#     print(usage)"
   ]
  },
  {
   "cell_type": "code",
   "execution_count": 21,
   "metadata": {},
   "outputs": [
    {
     "name": "stderr",
     "output_type": "stream",
     "text": [
      "/var/folders/q5/m8wmkz_d1c11pbrck3p2lm_m0000gn/T/ipykernel_94214/95251428.py:11: LangChainDeprecationWarning: Please see the migration guide at: https://python.langchain.com/docs/versions/migrating_memory/\n",
      "  memory = ConversationBufferMemory(\n"
     ]
    }
   ],
   "source": [
    "from langchain.memory import ConversationBufferMemory\n",
    "from langchain.chat_models import ChatOpenAI\n",
    "from langchain.schema.runnable import RunnablePassthrough\n",
    "from langchain.prompts import ChatPromptTemplate, MessagesPlaceholder\n",
    "from langchain.prompts.few_shot import FewShotChatMessagePromptTemplate\n",
    "\n",
    "# LLM 초기화\n",
    "llm = ChatOpenAI(temperature=0.1)\n",
    "\n",
    "# ✅ 메모리 클래스 변경: 대화를 유지하는 ConversationBufferMemory 사용\n",
    "memory = ConversationBufferMemory(\n",
    "    return_messages=True\n",
    ")\n",
    "\n",
    "# ✅ Few-Shot 예제 추가 (세 개의 이모티콘으로 답하도록)\n",
    "examples = [\n",
    "    {\"movie\": \"Top Gun\", \"answer\": \"🛩️👨‍✈️🔥\"},\n",
    "    {\"movie\": \"The Godfather\", \"answer\": \"👨‍👨‍👦🔫🍝\"},\n",
    "    {\"movie\": \"Titanic\", \"answer\": \"🚢💔🎶\"},\n",
    "    {\"movie\": \"Jurassic Park\", \"answer\": \"🦖🏃🌿\"},\n",
    "]\n",
    "\n",
    "example_prompt = ChatPromptTemplate.from_messages(\n",
    "    [(\"human\", \"What do you know about {movie}?\"), (\"ai\", \"{answer}\")]\n",
    ")\n",
    "\n",
    "few_shot_prompt = FewShotChatMessagePromptTemplate(\n",
    "    example_prompt=example_prompt,\n",
    "    examples=examples,\n",
    ")\n",
    "\n",
    "# ✅ 시스템 프롬프트 및 메모리 적용\n",
    "prompt = ChatPromptTemplate.from_messages(\n",
    "    [\n",
    "        (\"system\", \"You are a movie expert. You always reply with exactly three emojis.\"),\n",
    "        few_shot_prompt,  # 예제 추가\n",
    "        MessagesPlaceholder(variable_name=\"history\"),  # 메모리 활용\n",
    "        (\"human\", \"{movie}\"),\n",
    "    ]\n",
    ")\n",
    "\n",
    "# ✅ LCEL 체인 구현: 메모리 활용하도록 설정\n",
    "def load_memory(_):\n",
    "    return memory.load_memory_variables({})[\"history\"]\n",
    "\n",
    "chain = RunnablePassthrough.assign(history=load_memory) | prompt | llm\n",
    "\n",
    "# ✅ 체인 실행 함수\n",
    "def invoke_chain(movie):\n",
    "    result = chain.invoke({\"movie\": movie})\n",
    "    memory.save_context(\n",
    "        {\"input\": movie},\n",
    "        {\"output\": result.content},\n",
    "    )\n",
    "    print(result.content)"
   ]
  },
  {
   "cell_type": "code",
   "execution_count": 22,
   "metadata": {},
   "outputs": [
    {
     "name": "stdout",
     "output_type": "stream",
     "text": [
      "🛩️👨‍✈️🔥\n"
     ]
    }
   ],
   "source": [
    "invoke_chain(\"Top Gun\")"
   ]
  },
  {
   "cell_type": "code",
   "execution_count": 23,
   "metadata": {},
   "outputs": [
    {
     "name": "stdout",
     "output_type": "stream",
     "text": [
      "👨‍👨‍👦🔫🍝\n"
     ]
    }
   ],
   "source": [
    "invoke_chain(\"The Godfather\")"
   ]
  },
  {
   "cell_type": "code",
   "execution_count": 24,
   "metadata": {},
   "outputs": [
    {
     "name": "stdout",
     "output_type": "stream",
     "text": [
      "🛩️👨‍✈️🔥\n"
     ]
    }
   ],
   "source": [
    "invoke_chain(\"What was the first movie I asked about?\")"
   ]
  }
 ],
 "metadata": {
  "kernelspec": {
   "display_name": "env",
   "language": "python",
   "name": "python3"
  },
  "language_info": {
   "codemirror_mode": {
    "name": "ipython",
    "version": 3
   },
   "file_extension": ".py",
   "mimetype": "text/x-python",
   "name": "python",
   "nbconvert_exporter": "python",
   "pygments_lexer": "ipython3",
   "version": "3.13.1"
  }
 },
 "nbformat": 4,
 "nbformat_minor": 2
}
